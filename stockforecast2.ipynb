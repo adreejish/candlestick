{
 "cells": [
  {
   "cell_type": "code",
   "execution_count": 1,
   "metadata": {},
   "outputs": [],
   "source": "import pandas as pd\n"
  },
  {
   "cell_type": "code",
   "execution_count": 2,
   "metadata": {},
   "outputs": [],
   "source": "tcs=pd.read_csv('Downloads/csvs/tcsdataset.csv')"
  },
  {
   "cell_type": "code",
   "execution_count": 3,
   "metadata": {},
   "outputs": [],
   "source": "tcs['Date']=pd.to_datetime(tcs['Date'])"
  },
  {
   "cell_type": "code",
   "execution_count": 4,
   "metadata": {},
   "outputs": [],
   "source": "tcs=tcs.set_index('Date')"
  },
  {
   "cell_type": "code",
   "execution_count": 5,
   "metadata": {},
   "outputs": [],
   "source": "tcs= tcs[['High Price','Low Price','Close Price','Open Price','No.of Shares']]"
  },
  {
   "cell_type": "code",
   "execution_count": 7,
   "metadata": {},
   "outputs": [],
   "source": "tcs['delta']=\"\""
  },
  {
   "cell_type": "code",
   "execution_count": 8,
   "metadata": {},
   "outputs": [
    {
     "data": {
      "text/plain": "1210"
     },
     "execution_count": 8,
     "metadata": {},
     "output_type": "execute_result"
    }
   ],
   "source": "len(tcs)"
  },
  {
   "cell_type": "code",
   "execution_count": 9,
   "metadata": {},
   "outputs": [],
   "source": "import numpy as np\n"
  },
  {
   "cell_type": "code",
   "execution_count": 10,
   "metadata": {},
   "outputs": [],
   "source": "length=np.arange(0,1210)"
  },
  {
   "cell_type": "code",
   "execution_count": 11,
   "metadata": {},
   "outputs": [
    {
     "data": {
      "text/plain": "array([   0,    1,    2, ..., 1207, 1208, 1209])"
     },
     "execution_count": 11,
     "metadata": {},
     "output_type": "execute_result"
    }
   ],
   "source": "length\n"
  },
  {
   "cell_type": "code",
   "execution_count": 12,
   "metadata": {},
   "outputs": [
    {
     "name": "stderr",
     "output_type": "stream",
     "text": "/home/skb/.local/lib/python3.6/site-packages/pandas/core/indexing.py:205: SettingWithCopyWarning: \nA value is trying to be set on a copy of a slice from a DataFrame\n\nSee the caveats in the documentation: http://pandas.pydata.org/pandas-docs/stable/user_guide/indexing.html#returning-a-view-versus-a-copy\n  self._setitem_with_indexer(indexer, value)\n"
    }
   ],
   "source": "for i in length:\n    tcs.delta.iloc[i]=tcs.iloc[i]['Open Price']-tcs.iloc[i]['Close Price']"
  },
  {
   "cell_type": "code",
   "execution_count": 13,
   "metadata": {},
   "outputs": [],
   "source": "tcs['sizee']=\"\""
  },
  {
   "cell_type": "code",
   "execution_count": 14,
   "metadata": {},
   "outputs": [
    {
     "data": {
      "text/plain": "5"
     },
     "execution_count": 14,
     "metadata": {},
     "output_type": "execute_result"
    }
   ],
   "source": "abs(-5)"
  },
  {
   "cell_type": "code",
   "execution_count": 15,
   "metadata": {},
   "outputs": [],
   "source": "for i in length:\n    tcs.sizee.iloc[i]=abs(tcs.iloc[i]['delta'])"
  },
  {
   "cell_type": "code",
   "execution_count": 16,
   "metadata": {},
   "outputs": [],
   "source": "tcs['top']=\"\""
  },
  {
   "cell_type": "code",
   "execution_count": 17,
   "metadata": {},
   "outputs": [],
   "source": "tcs['bottom']=\"\""
  },
  {
   "cell_type": "code",
   "execution_count": 18,
   "metadata": {},
   "outputs": [],
   "source": "for i in length:\n    tcs.top.iloc[i]=tcs.iloc[i]['Open Price'] if tcs.iloc[i]['Open Price']>tcs.iloc[i]['Close Price'] else tcs.iloc[i]['Close Price']\n    tcs.bottom.iloc[i]=tcs.iloc[i]['Open Price'] if tcs.iloc[i]['Open Price']<tcs.iloc[i]['Close Price'] else tcs.iloc[i]['Close Price']"
  },
  {
   "cell_type": "code",
   "execution_count": 19,
   "metadata": {},
   "outputs": [],
   "source": "tcs['colour']=\"\""
  },
  {
   "cell_type": "code",
   "execution_count": 20,
   "metadata": {},
   "outputs": [],
   "source": "for i in length:\n    if(tcs.iloc[i]['Open Price']>tcs.iloc[i]['Close Price']):\n        tcs.colour.iloc[i]=1\n    elif(tcs.iloc[i]['Open Price']<tcs.iloc[i]['Close Price']):\n        tcs.colour.iloc[i]=-1\n    else:\n        tcs.colour.iloc[i]=0\n\n\n"
  },
  {
   "cell_type": "code",
   "execution_count": 21,
   "metadata": {},
   "outputs": [],
   "source": "tcs[\"UpperShadow\"]=\"\""
  },
  {
   "cell_type": "code",
   "execution_count": 22,
   "metadata": {},
   "outputs": [],
   "source": "tcs[\"LowerShadow\"]=\"\""
  },
  {
   "cell_type": "code",
   "execution_count": 23,
   "metadata": {},
   "outputs": [],
   "source": "for i in length:\n    tcs.UpperShadow.iloc[i]=tcs.iloc[i]['High Price']-tcs.iloc[i]['top']\n    tcs.LowerShadow.iloc[i]=tcs.iloc[i]['bottom']-tcs.iloc[i]['Low Price']\n\n    "
  },
  {
   "cell_type": "code",
   "execution_count": 24,
   "metadata": {},
   "outputs": [],
   "source": "length=np.arange(1,1210)"
  },
  {
   "cell_type": "code",
   "execution_count": 25,
   "metadata": {},
   "outputs": [],
   "source": "tcs=tcs.sort_index()"
  },
  {
   "cell_type": "code",
   "execution_count": 26,
   "metadata": {},
   "outputs": [],
   "source": "tcs[\"PriceChange\"]=\"\""
  },
  {
   "cell_type": "code",
   "execution_count": 27,
   "metadata": {},
   "outputs": [],
   "source": "for i in length:\n    tcs.PriceChange.iloc[i]=tcs.iloc[i]['Close Price']-tcs.iloc[i-1]['Close Price']\n    "
  },
  {
   "cell_type": "code",
   "execution_count": 28,
   "metadata": {},
   "outputs": [],
   "source": "tcs[\"PriceChangePercentage\"]=\"\"\n"
  },
  {
   "cell_type": "code",
   "execution_count": 29,
   "metadata": {},
   "outputs": [],
   "source": "for i in length:\n    tcs.PriceChangePercentage.iloc[i]=abs(tcs.iloc[i]['PriceChange']/tcs.iloc[i-1]['Close Price'])*100"
  },
  {
   "cell_type": "code",
   "execution_count": 30,
   "metadata": {},
   "outputs": [],
   "source": "tcs['direction']=\"\""
  },
  {
   "cell_type": "code",
   "execution_count": 31,
   "metadata": {},
   "outputs": [],
   "source": "for i in length:\n    if(tcs.iloc[i]['PriceChange']>0):\n        tcs.direction.iloc[i]=1\n    elif(tcs.iloc[i]['PriceChange']<0):\n        tcs.direction.iloc[i]=-1\n    else:\n        tcs.direction.iloc[i]=0\n        \n"
  },
  {
   "cell_type": "code",
   "execution_count": 33,
   "metadata": {},
   "outputs": [],
   "source": "testname=\"high\"\n"
  },
  {
   "cell_type": "code",
   "execution_count": 34,
   "metadata": {},
   "outputs": [
    {
     "name": "stdout",
     "output_type": "stream",
     "text": "high\n"
    }
   ],
   "source": "print (testname)\n"
  },
  {
   "cell_type": "code",
   "execution_count": 35,
   "metadata": {},
   "outputs": [],
   "source": "testname1=testname+\"1\"\n"
  },
  {
   "cell_type": "code",
   "execution_count": 36,
   "metadata": {},
   "outputs": [
    {
     "data": {
      "text/plain": "'high1'"
     },
     "execution_count": 36,
     "metadata": {},
     "output_type": "execute_result"
    }
   ],
   "source": "testname1"
  },
  {
   "cell_type": "code",
   "execution_count": 37,
   "metadata": {},
   "outputs": [],
   "source": "def lagger(*colnames):\n    tcscopy=tcs\n    for colname in colnames:\n        var=tcs[colname]\n        var1=var.shift(periods=1)\n        var2=var.shift(periods=2)\n        var3=var.shift(periods=3)\n        var4=var.shift(periods=4)\n        var5=var.shift(periods=5)\n        varname=colname.lower()\n        varname=varname.replace(\" \",\"\")\n        varname1=varname+\"1\"\n        varname2=varname+\"2\"\n        varname3=varname+\"3\"\n        varname4=varname+\"4\"\n        varname5=varname+\"5\"\n        tcscopy=tcscopy.assign(varname1=var1.values,varname2=var2.values,varname3=var3.values,varname4=var4.values,varname5=var5.values)\n        tcscopy=tcscopy.rename(columns={'varname1':varname1,'varname2':varname2,'varname3':varname3,'varname4':varname4,'varname5':varname5})\n    return tcscopy"
  },
  {
   "cell_type": "code",
   "execution_count": 39,
   "metadata": {},
   "outputs": [],
   "source": "cols=tcs.columns\n"
  },
  {
   "cell_type": "code",
   "execution_count": 40,
   "metadata": {},
   "outputs": [
    {
     "data": {
      "text/plain": "Index(['High Price', 'Low Price', 'Close Price', 'Open Price', 'No.of Shares',\n       'delta', 'sizee', 'top', 'bottom', 'colour', 'UpperShadow',\n       'LowerShadow', 'PriceChange', 'PriceChangePercentage', 'direction'],\n      dtype='object')"
     },
     "execution_count": 40,
     "metadata": {},
     "output_type": "execute_result"
    }
   ],
   "source": "cols"
  },
  {
   "cell_type": "code",
   "execution_count": 41,
   "metadata": {},
   "outputs": [],
   "source": "tcslagged=lagger('High Price', 'Low Price', 'Close Price', 'Open Price', 'No.of Shares',\n       'delta', 'sizee', 'top', 'colour', 'bottom', 'UpperShadow',\n       'LowerShadow', 'PriceChange', 'PriceChangePercentage', 'direction')\n"
  },
  {
   "cell_type": "code",
   "execution_count": 43,
   "metadata": {},
   "outputs": [
    {
     "data": {
      "text/plain": "Index(['High Price', 'Low Price', 'Close Price', 'Open Price', 'No.of Shares',\n       'delta', 'sizee', 'top', 'bottom', 'colour', 'UpperShadow',\n       'LowerShadow', 'PriceChange', 'PriceChangePercentage', 'direction',\n       'highprice1', 'highprice2', 'highprice3', 'highprice4', 'highprice5',\n       'lowprice1', 'lowprice2', 'lowprice3', 'lowprice4', 'lowprice5',\n       'closeprice1', 'closeprice2', 'closeprice3', 'closeprice4',\n       'closeprice5', 'openprice1', 'openprice2', 'openprice3', 'openprice4',\n       'openprice5', 'no.ofshares1', 'no.ofshares2', 'no.ofshares3',\n       'no.ofshares4', 'no.ofshares5', 'delta1', 'delta2', 'delta3', 'delta4',\n       'delta5', 'sizee1', 'sizee2', 'sizee3', 'sizee4', 'sizee5', 'top1',\n       'top2', 'top3', 'top4', 'top5', 'colour1', 'colour2', 'colour3',\n       'colour4', 'colour5', 'bottom1', 'bottom2', 'bottom3', 'bottom4',\n       'bottom5', 'uppershadow1', 'uppershadow2', 'uppershadow3',\n       'uppershadow4', 'uppershadow5', 'lowershadow1', 'lowershadow2',\n       'lowershadow3', 'lowershadow4', 'lowershadow5', 'pricechange1',\n       'pricechange2', 'pricechange3', 'pricechange4', 'pricechange5',\n       'pricechangepercentage1', 'pricechangepercentage2',\n       'pricechangepercentage3', 'pricechangepercentage4',\n       'pricechangepercentage5', 'direction1', 'direction2', 'direction3',\n       'direction4', 'direction5'],\n      dtype='object')"
     },
     "execution_count": 43,
     "metadata": {},
     "output_type": "execute_result"
    }
   ],
   "source": "tcslagged.columns\n"
  },
  {
   "cell_type": "code",
   "execution_count": 44,
   "metadata": {},
   "outputs": [],
   "source": "tcslagged.drop(tcslagged.columns[[0,1,2,3,4,5,6,7,8,9,10,11,12,13]], axis=1, inplace=True)\n"
  },
  {
   "cell_type": "code",
   "execution_count": 46,
   "metadata": {},
   "outputs": [
    {
     "data": {
      "text/plain": "Index(['direction', 'highprice1', 'highprice2', 'highprice3', 'highprice4',\n       'highprice5', 'lowprice1', 'lowprice2', 'lowprice3', 'lowprice4',\n       'lowprice5', 'closeprice1', 'closeprice2', 'closeprice3', 'closeprice4',\n       'closeprice5', 'openprice1', 'openprice2', 'openprice3', 'openprice4',\n       'openprice5', 'no.ofshares1', 'no.ofshares2', 'no.ofshares3',\n       'no.ofshares4', 'no.ofshares5', 'delta1', 'delta2', 'delta3', 'delta4',\n       'delta5', 'sizee1', 'sizee2', 'sizee3', 'sizee4', 'sizee5', 'top1',\n       'top2', 'top3', 'top4', 'top5', 'colour1', 'colour2', 'colour3',\n       'colour4', 'colour5', 'bottom1', 'bottom2', 'bottom3', 'bottom4',\n       'bottom5', 'uppershadow1', 'uppershadow2', 'uppershadow3',\n       'uppershadow4', 'uppershadow5', 'lowershadow1', 'lowershadow2',\n       'lowershadow3', 'lowershadow4', 'lowershadow5', 'pricechange1',\n       'pricechange2', 'pricechange3', 'pricechange4', 'pricechange5',\n       'pricechangepercentage1', 'pricechangepercentage2',\n       'pricechangepercentage3', 'pricechangepercentage4',\n       'pricechangepercentage5', 'direction1', 'direction2', 'direction3',\n       'direction4', 'direction5'],\n      dtype='object')"
     },
     "execution_count": 46,
     "metadata": {},
     "output_type": "execute_result"
    }
   ],
   "source": "tcslagged.columns"
  },
  {
   "cell_type": "code",
   "execution_count": null,
   "metadata": {},
   "outputs": [],
   "source": ""
  },
  {
   "cell_type": "code",
   "execution_count": 48,
   "metadata": {},
   "outputs": [
    {
     "data": {
      "text/plain": "Date\n2015-01-01          NaN\n2015-01-02          NaN\n2015-01-05          NaN\n2015-01-06             \n2015-01-07     0.888863\n                ...    \n2019-11-20     0.947349\n2019-11-21      1.05987\n2019-11-22      2.01929\n2019-11-25    0.0142295\n2019-11-26     0.429317\nName: pricechangepercentage3, Length: 1210, dtype: object"
     },
     "execution_count": 48,
     "metadata": {},
     "output_type": "execute_result"
    }
   ],
   "source": "tcslagged['pricechangepercentage3']"
  },
  {
   "cell_type": "code",
   "execution_count": 49,
   "metadata": {},
   "outputs": [
    {
     "data": {
      "text/plain": "'highprice5'"
     },
     "execution_count": 49,
     "metadata": {},
     "output_type": "execute_result"
    }
   ],
   "source": "tcslagged.columns.values[5]"
  },
  {
   "cell_type": "code",
   "execution_count": 50,
   "metadata": {},
   "outputs": [],
   "source": "for i in tcslagged.columns.values:\n    tcslagged[i]=pd.to_numeric(tcslagged[i],errors=\"coerce\")"
  },
  {
   "cell_type": "code",
   "execution_count": 51,
   "metadata": {},
   "outputs": [
    {
     "data": {
      "text/plain": "Date\n2015-01-01         NaN\n2015-01-02         NaN\n2015-01-05         NaN\n2015-01-06         NaN\n2015-01-07    0.888863\n                ...   \n2019-11-20    0.947349\n2019-11-21    1.059868\n2019-11-22    2.019287\n2019-11-25    0.014229\n2019-11-26    0.429317\nName: pricechangepercentage3, Length: 1210, dtype: float64"
     },
     "execution_count": 51,
     "metadata": {},
     "output_type": "execute_result"
    }
   ],
   "source": "tcslagged['pricechangepercentage3']"
  },
  {
   "cell_type": "code",
   "execution_count": 52,
   "metadata": {},
   "outputs": [],
   "source": "from sklearn.model_selection import train_test_split"
  },
  {
   "cell_type": "code",
   "execution_count": 53,
   "metadata": {},
   "outputs": [],
   "source": "trainvars=tcslagged.columns.values[1:]"
  },
  {
   "cell_type": "code",
   "execution_count": 54,
   "metadata": {},
   "outputs": [
    {
     "data": {
      "text/plain": "0.8888627266305664"
     },
     "execution_count": 54,
     "metadata": {},
     "output_type": "execute_result"
    }
   ],
   "source": "tcslagged.iloc[6]['pricechangepercentage5']\n"
  },
  {
   "cell_type": "code",
   "execution_count": 55,
   "metadata": {},
   "outputs": [],
   "source": "tcscleaned=tcslagged[6:]"
  },
  {
   "cell_type": "code",
   "execution_count": 57,
   "metadata": {},
   "outputs": [],
   "source": "X=tcscleaned[trainvars]"
  },
  {
   "cell_type": "code",
   "execution_count": 58,
   "metadata": {},
   "outputs": [
    {
     "data": {
      "text/plain": "array(['highprice1', 'highprice2', 'highprice3', 'highprice4',\n       'highprice5', 'lowprice1', 'lowprice2', 'lowprice3', 'lowprice4',\n       'lowprice5', 'closeprice1', 'closeprice2', 'closeprice3',\n       'closeprice4', 'closeprice5', 'openprice1', 'openprice2',\n       'openprice3', 'openprice4', 'openprice5', 'no.ofshares1',\n       'no.ofshares2', 'no.ofshares3', 'no.ofshares4', 'no.ofshares5',\n       'delta1', 'delta2', 'delta3', 'delta4', 'delta5', 'sizee1',\n       'sizee2', 'sizee3', 'sizee4', 'sizee5', 'top1', 'top2', 'top3',\n       'top4', 'top5', 'colour1', 'colour2', 'colour3', 'colour4',\n       'colour5', 'bottom1', 'bottom2', 'bottom3', 'bottom4', 'bottom5',\n       'uppershadow1', 'uppershadow2', 'uppershadow3', 'uppershadow4',\n       'uppershadow5', 'lowershadow1', 'lowershadow2', 'lowershadow3',\n       'lowershadow4', 'lowershadow5', 'pricechange1', 'pricechange2',\n       'pricechange3', 'pricechange4', 'pricechange5',\n       'pricechangepercentage1', 'pricechangepercentage2',\n       'pricechangepercentage3', 'pricechangepercentage4',\n       'pricechangepercentage5', 'direction1', 'direction2', 'direction3',\n       'direction4', 'direction5'], dtype=object)"
     },
     "execution_count": 58,
     "metadata": {},
     "output_type": "execute_result"
    }
   ],
   "source": "trainvars"
  },
  {
   "cell_type": "code",
   "execution_count": 59,
   "metadata": {},
   "outputs": [],
   "source": "tsize=trainvars.shape\n\n"
  },
  {
   "cell_type": "code",
   "execution_count": 60,
   "metadata": {},
   "outputs": [
    {
     "data": {
      "text/plain": "(75,)"
     },
     "execution_count": 60,
     "metadata": {},
     "output_type": "execute_result"
    }
   ],
   "source": "tsize"
  },
  {
   "cell_type": "code",
   "execution_count": 61,
   "metadata": {},
   "outputs": [],
   "source": "y=tcscleaned.direction"
  },
  {
   "cell_type": "code",
   "execution_count": 62,
   "metadata": {},
   "outputs": [
    {
     "data": {
      "text/plain": "Date\n2015-01-09    1.0\n2015-01-12   -1.0\n2015-01-13   -1.0\n2015-01-14    1.0\n2015-01-15    1.0\n             ... \n2019-11-20   -1.0\n2019-11-21    1.0\n2019-11-22   -1.0\n2019-11-25    1.0\n2019-11-26   -1.0\nName: direction, Length: 1204, dtype: float64"
     },
     "execution_count": 62,
     "metadata": {},
     "output_type": "execute_result"
    }
   ],
   "source": "y"
  },
  {
   "cell_type": "code",
   "execution_count": 63,
   "metadata": {},
   "outputs": [],
   "source": "X_train,X_test,y_train,y_test=train_test_split(X,y,test_size=0.3,random_state=1,shuffle=False)"
  },
  {
   "cell_type": "code",
   "execution_count": 64,
   "metadata": {},
   "outputs": [],
   "source": "from sklearn.tree import DecisionTreeClassifier"
  },
  {
   "cell_type": "code",
   "execution_count": 65,
   "metadata": {},
   "outputs": [],
   "source": "clf = DecisionTreeClassifier(random_state=0)\n"
  },
  {
   "cell_type": "code",
   "execution_count": 66,
   "metadata": {},
   "outputs": [],
   "source": "clf=clf.fit(X_train,y_train)"
  },
  {
   "cell_type": "code",
   "execution_count": 67,
   "metadata": {},
   "outputs": [],
   "source": "y_pred=clf.predict(X_test)"
  },
  {
   "cell_type": "code",
   "execution_count": 68,
   "metadata": {},
   "outputs": [],
   "source": "from sklearn.tree import export_graphviz"
  },
  {
   "cell_type": "code",
   "execution_count": 69,
   "metadata": {},
   "outputs": [],
   "source": "feature_names=X.columns\n"
  },
  {
   "cell_type": "code",
   "execution_count": 70,
   "metadata": {},
   "outputs": [],
   "source": "export_graphviz(clf,out_file=\"newdecisiontree.dot\",max_depth=5,feature_names=feature_names,class_names=True)"
  },
  {
   "cell_type": "code",
   "execution_count": 71,
   "metadata": {},
   "outputs": [],
   "source": "from sklearn import metrics\n"
  },
  {
   "cell_type": "code",
   "execution_count": 72,
   "metadata": {},
   "outputs": [
    {
     "name": "stdout",
     "output_type": "stream",
     "text": "Accuracy: 0.5248618784530387\n"
    }
   ],
   "source": "print(\"Accuracy:\",metrics.accuracy_score(y_test, y_pred))"
  },
  {
   "cell_type": "code",
   "execution_count": 73,
   "metadata": {},
   "outputs": [],
   "source": "from sklearn.ensemble import RandomForestClassifier\n"
  },
  {
   "cell_type": "code",
   "execution_count": 74,
   "metadata": {},
   "outputs": [],
   "source": "rfc=RandomForestClassifier()"
  },
  {
   "cell_type": "code",
   "execution_count": 75,
   "metadata": {},
   "outputs": [],
   "source": "rfc=rfc.fit(X_train,y_train)"
  },
  {
   "cell_type": "code",
   "execution_count": 76,
   "metadata": {},
   "outputs": [],
   "source": "y_pred=rfc.predict(X_test)"
  },
  {
   "cell_type": "code",
   "execution_count": 77,
   "metadata": {},
   "outputs": [
    {
     "name": "stdout",
     "output_type": "stream",
     "text": "accuracy 0.5138121546961326\n"
    }
   ],
   "source": "print(\"accuracy\",metrics.accuracy_score(y_test,y_pred))"
  },
  {
   "cell_type": "code",
   "execution_count": 78,
   "metadata": {},
   "outputs": [],
   "source": "from sklearn.linear_model import LogisticRegression"
  },
  {
   "cell_type": "code",
   "execution_count": 79,
   "metadata": {},
   "outputs": [],
   "source": "lr=LogisticRegression()\n"
  },
  {
   "cell_type": "code",
   "execution_count": 80,
   "metadata": {},
   "outputs": [
    {
     "name": "stderr",
     "output_type": "stream",
     "text": "/home/skb/.local/lib/python3.6/site-packages/sklearn/linear_model/_logistic.py:940: ConvergenceWarning: lbfgs failed to converge (status=1):\nSTOP: TOTAL NO. of ITERATIONS REACHED LIMIT.\n\nIncrease the number of iterations (max_iter) or scale the data as shown in:\n    https://scikit-learn.org/stable/modules/preprocessing.html\nPlease also refer to the documentation for alternative solver options:\n    https://scikit-learn.org/stable/modules/linear_model.html#logistic-regression\n  extra_warning_msg=_LOGISTIC_SOLVER_CONVERGENCE_MSG)\n"
    }
   ],
   "source": "lr=lr.fit(X_train,y_train)"
  },
  {
   "cell_type": "code",
   "execution_count": 81,
   "metadata": {},
   "outputs": [],
   "source": "y_pred=lr.predict(X_test)"
  },
  {
   "cell_type": "code",
   "execution_count": 82,
   "metadata": {},
   "outputs": [
    {
     "name": "stdout",
     "output_type": "stream",
     "text": "accuracy 0.5138121546961326\n"
    }
   ],
   "source": "print(\"accuracy\",metrics.accuracy_score(y_test,y_pred))"
  },
  {
   "cell_type": "code",
   "execution_count": 83,
   "metadata": {},
   "outputs": [],
   "source": "from sklearn.svm import SVC"
  },
  {
   "cell_type": "code",
   "execution_count": 84,
   "metadata": {},
   "outputs": [],
   "source": "svc=SVC()"
  },
  {
   "cell_type": "code",
   "execution_count": 85,
   "metadata": {},
   "outputs": [],
   "source": "svc=svc.fit(X_train,y_train)"
  },
  {
   "cell_type": "code",
   "execution_count": 86,
   "metadata": {},
   "outputs": [],
   "source": "y_pred=svc.predict(X_test)\n"
  },
  {
   "cell_type": "code",
   "execution_count": 87,
   "metadata": {},
   "outputs": [
    {
     "name": "stdout",
     "output_type": "stream",
     "text": "accuracy 0.5497237569060773\n"
    }
   ],
   "source": "print(\"accuracy\",metrics.accuracy_score(y_test,y_pred))"
  },
  {
   "cell_type": "code",
   "execution_count": 88,
   "metadata": {},
   "outputs": [
    {
     "name": "stdout",
     "output_type": "stream",
     "text": "hello world\n"
    }
   ],
   "source": "print(\"hello world\")"
  },
  {
   "cell_type": "code",
   "execution_count": 89,
   "metadata": {},
   "outputs": [],
   "source": "from sklearn.neural_network import MLPClassifier"
  },
  {
   "cell_type": "code",
   "execution_count": 90,
   "metadata": {},
   "outputs": [],
   "source": "mlp = MLPClassifier(hidden_layer_sizes=(15,15,15), max_iter=2000)"
  },
  {
   "cell_type": "code",
   "execution_count": 91,
   "metadata": {},
   "outputs": [],
   "source": "mlp=mlp.fit(X_train, y_train)\n"
  },
  {
   "cell_type": "code",
   "execution_count": 92,
   "metadata": {},
   "outputs": [],
   "source": "y_pred=mlp.predict(X_test)"
  },
  {
   "cell_type": "code",
   "execution_count": 93,
   "metadata": {},
   "outputs": [
    {
     "name": "stdout",
     "output_type": "stream",
     "text": "accuracy 0.5\n"
    }
   ],
   "source": "print(\"accuracy\",metrics.accuracy_score(y_test,y_pred))"
  },
  {
   "cell_type": "code",
   "execution_count": 94,
   "metadata": {},
   "outputs": [],
   "source": "from sklearn.model_selection import GridSearchCV\n"
  },
  {
   "cell_type": "code",
   "execution_count": 95,
   "metadata": {},
   "outputs": [],
   "source": "gsc = GridSearchCV(\n        estimator=MLPClassifier(),param_grid={'hidden_layer_sizes':(np.arange(8,15)),'max_iter':[1000,2000,1500,3000]})"
  },
  {
   "cell_type": "code",
   "execution_count": 96,
   "metadata": {},
   "outputs": [
    {
     "name": "stderr",
     "output_type": "stream",
     "text": "/home/skb/.local/lib/python3.6/site-packages/sklearn/model_selection/_split.py:667: UserWarning: The least populated class in y has only 1 members, which is less than n_splits=5.\n  % (min_groups, self.n_splits)), UserWarning)\n/home/skb/.local/lib/python3.6/site-packages/sklearn/neural_network/_multilayer_perceptron.py:571: ConvergenceWarning: Stochastic Optimizer: Maximum iterations (1000) reached and the optimization hasn't converged yet.\n  % self.max_iter, ConvergenceWarning)\n/home/skb/.local/lib/python3.6/site-packages/sklearn/neural_network/_multilayer_perceptron.py:571: ConvergenceWarning: Stochastic Optimizer: Maximum iterations (1000) reached and the optimization hasn't converged yet.\n  % self.max_iter, ConvergenceWarning)\n/home/skb/.local/lib/python3.6/site-packages/sklearn/neural_network/_multilayer_perceptron.py:571: ConvergenceWarning: Stochastic Optimizer: Maximum iterations (2000) reached and the optimization hasn't converged yet.\n  % self.max_iter, ConvergenceWarning)\n/home/skb/.local/lib/python3.6/site-packages/sklearn/neural_network/_multilayer_perceptron.py:571: ConvergenceWarning: Stochastic Optimizer: Maximum iterations (2000) reached and the optimization hasn't converged yet.\n  % self.max_iter, ConvergenceWarning)\n/home/skb/.local/lib/python3.6/site-packages/sklearn/neural_network/_multilayer_perceptron.py:571: ConvergenceWarning: Stochastic Optimizer: Maximum iterations (1500) reached and the optimization hasn't converged yet.\n  % self.max_iter, ConvergenceWarning)\n/home/skb/.local/lib/python3.6/site-packages/sklearn/neural_network/_multilayer_perceptron.py:571: ConvergenceWarning: Stochastic Optimizer: Maximum iterations (1500) reached and the optimization hasn't converged yet.\n  % self.max_iter, ConvergenceWarning)\n/home/skb/.local/lib/python3.6/site-packages/sklearn/neural_network/_multilayer_perceptron.py:571: ConvergenceWarning: Stochastic Optimizer: Maximum iterations (3000) reached and the optimization hasn't converged yet.\n  % self.max_iter, ConvergenceWarning)\n/home/skb/.local/lib/python3.6/site-packages/sklearn/neural_network/_multilayer_perceptron.py:571: ConvergenceWarning: Stochastic Optimizer: Maximum iterations (1000) reached and the optimization hasn't converged yet.\n  % self.max_iter, ConvergenceWarning)\n/home/skb/.local/lib/python3.6/site-packages/sklearn/neural_network/_multilayer_perceptron.py:571: ConvergenceWarning: Stochastic Optimizer: Maximum iterations (1000) reached and the optimization hasn't converged yet.\n  % self.max_iter, ConvergenceWarning)\n/home/skb/.local/lib/python3.6/site-packages/sklearn/neural_network/_multilayer_perceptron.py:571: ConvergenceWarning: Stochastic Optimizer: Maximum iterations (1000) reached and the optimization hasn't converged yet.\n  % self.max_iter, ConvergenceWarning)\n/home/skb/.local/lib/python3.6/site-packages/sklearn/neural_network/_multilayer_perceptron.py:571: ConvergenceWarning: Stochastic Optimizer: Maximum iterations (2000) reached and the optimization hasn't converged yet.\n  % self.max_iter, ConvergenceWarning)\n/home/skb/.local/lib/python3.6/site-packages/sklearn/neural_network/_multilayer_perceptron.py:571: ConvergenceWarning: Stochastic Optimizer: Maximum iterations (1500) reached and the optimization hasn't converged yet.\n  % self.max_iter, ConvergenceWarning)\n/home/skb/.local/lib/python3.6/site-packages/sklearn/neural_network/_multilayer_perceptron.py:571: ConvergenceWarning: Stochastic Optimizer: Maximum iterations (3000) reached and the optimization hasn't converged yet.\n  % self.max_iter, ConvergenceWarning)\n/home/skb/.local/lib/python3.6/site-packages/sklearn/neural_network/_multilayer_perceptron.py:571: ConvergenceWarning: Stochastic Optimizer: Maximum iterations (1000) reached and the optimization hasn't converged yet.\n  % self.max_iter, ConvergenceWarning)\n/home/skb/.local/lib/python3.6/site-packages/sklearn/neural_network/_multilayer_perceptron.py:571: ConvergenceWarning: Stochastic Optimizer: Maximum iterations (1000) reached and the optimization hasn't converged yet.\n  % self.max_iter, ConvergenceWarning)\n/home/skb/.local/lib/python3.6/site-packages/sklearn/neural_network/_multilayer_perceptron.py:571: ConvergenceWarning: Stochastic Optimizer: Maximum iterations (1000) reached and the optimization hasn't converged yet.\n  % self.max_iter, ConvergenceWarning)\n/home/skb/.local/lib/python3.6/site-packages/sklearn/neural_network/_multilayer_perceptron.py:571: ConvergenceWarning: Stochastic Optimizer: Maximum iterations (1000) reached and the optimization hasn't converged yet.\n  % self.max_iter, ConvergenceWarning)\n/home/skb/.local/lib/python3.6/site-packages/sklearn/neural_network/_multilayer_perceptron.py:571: ConvergenceWarning: Stochastic Optimizer: Maximum iterations (2000) reached and the optimization hasn't converged yet.\n  % self.max_iter, ConvergenceWarning)\n/home/skb/.local/lib/python3.6/site-packages/sklearn/neural_network/_multilayer_perceptron.py:571: ConvergenceWarning: Stochastic Optimizer: Maximum iterations (1500) reached and the optimization hasn't converged yet.\n  % self.max_iter, ConvergenceWarning)\n/home/skb/.local/lib/python3.6/site-packages/sklearn/neural_network/_multilayer_perceptron.py:571: ConvergenceWarning: Stochastic Optimizer: Maximum iterations (1500) reached and the optimization hasn't converged yet.\n  % self.max_iter, ConvergenceWarning)\n/home/skb/.local/lib/python3.6/site-packages/sklearn/neural_network/_multilayer_perceptron.py:571: ConvergenceWarning: Stochastic Optimizer: Maximum iterations (1000) reached and the optimization hasn't converged yet.\n  % self.max_iter, ConvergenceWarning)\n/home/skb/.local/lib/python3.6/site-packages/sklearn/neural_network/_multilayer_perceptron.py:571: ConvergenceWarning: Stochastic Optimizer: Maximum iterations (1000) reached and the optimization hasn't converged yet.\n  % self.max_iter, ConvergenceWarning)\n/home/skb/.local/lib/python3.6/site-packages/sklearn/neural_network/_multilayer_perceptron.py:571: ConvergenceWarning: Stochastic Optimizer: Maximum iterations (1000) reached and the optimization hasn't converged yet.\n  % self.max_iter, ConvergenceWarning)\n/home/skb/.local/lib/python3.6/site-packages/sklearn/neural_network/_multilayer_perceptron.py:571: ConvergenceWarning: Stochastic Optimizer: Maximum iterations (2000) reached and the optimization hasn't converged yet.\n  % self.max_iter, ConvergenceWarning)\n/home/skb/.local/lib/python3.6/site-packages/sklearn/neural_network/_multilayer_perceptron.py:571: ConvergenceWarning: Stochastic Optimizer: Maximum iterations (1500) reached and the optimization hasn't converged yet.\n  % self.max_iter, ConvergenceWarning)\n/home/skb/.local/lib/python3.6/site-packages/sklearn/neural_network/_multilayer_perceptron.py:571: ConvergenceWarning: Stochastic Optimizer: Maximum iterations (1500) reached and the optimization hasn't converged yet.\n  % self.max_iter, ConvergenceWarning)\n/home/skb/.local/lib/python3.6/site-packages/sklearn/neural_network/_multilayer_perceptron.py:571: ConvergenceWarning: Stochastic Optimizer: Maximum iterations (3000) reached and the optimization hasn't converged yet.\n  % self.max_iter, ConvergenceWarning)\n/home/skb/.local/lib/python3.6/site-packages/sklearn/neural_network/_multilayer_perceptron.py:571: ConvergenceWarning: Stochastic Optimizer: Maximum iterations (3000) reached and the optimization hasn't converged yet.\n  % self.max_iter, ConvergenceWarning)\n/home/skb/.local/lib/python3.6/site-packages/sklearn/neural_network/_multilayer_perceptron.py:571: ConvergenceWarning: Stochastic Optimizer: Maximum iterations (1000) reached and the optimization hasn't converged yet.\n  % self.max_iter, ConvergenceWarning)\n/home/skb/.local/lib/python3.6/site-packages/sklearn/neural_network/_multilayer_perceptron.py:571: ConvergenceWarning: Stochastic Optimizer: Maximum iterations (1000) reached and the optimization hasn't converged yet.\n  % self.max_iter, ConvergenceWarning)\n/home/skb/.local/lib/python3.6/site-packages/sklearn/neural_network/_multilayer_perceptron.py:571: ConvergenceWarning: Stochastic Optimizer: Maximum iterations (1000) reached and the optimization hasn't converged yet.\n  % self.max_iter, ConvergenceWarning)\n"
    },
    {
     "name": "stderr",
     "output_type": "stream",
     "text": "/home/skb/.local/lib/python3.6/site-packages/sklearn/neural_network/_multilayer_perceptron.py:571: ConvergenceWarning: Stochastic Optimizer: Maximum iterations (2000) reached and the optimization hasn't converged yet.\n  % self.max_iter, ConvergenceWarning)\n/home/skb/.local/lib/python3.6/site-packages/sklearn/neural_network/_multilayer_perceptron.py:571: ConvergenceWarning: Stochastic Optimizer: Maximum iterations (2000) reached and the optimization hasn't converged yet.\n  % self.max_iter, ConvergenceWarning)\n/home/skb/.local/lib/python3.6/site-packages/sklearn/neural_network/_multilayer_perceptron.py:571: ConvergenceWarning: Stochastic Optimizer: Maximum iterations (2000) reached and the optimization hasn't converged yet.\n  % self.max_iter, ConvergenceWarning)\n/home/skb/.local/lib/python3.6/site-packages/sklearn/neural_network/_multilayer_perceptron.py:571: ConvergenceWarning: Stochastic Optimizer: Maximum iterations (2000) reached and the optimization hasn't converged yet.\n  % self.max_iter, ConvergenceWarning)\n/home/skb/.local/lib/python3.6/site-packages/sklearn/neural_network/_multilayer_perceptron.py:571: ConvergenceWarning: Stochastic Optimizer: Maximum iterations (1500) reached and the optimization hasn't converged yet.\n  % self.max_iter, ConvergenceWarning)\n/home/skb/.local/lib/python3.6/site-packages/sklearn/neural_network/_multilayer_perceptron.py:571: ConvergenceWarning: Stochastic Optimizer: Maximum iterations (1500) reached and the optimization hasn't converged yet.\n  % self.max_iter, ConvergenceWarning)\n/home/skb/.local/lib/python3.6/site-packages/sklearn/neural_network/_multilayer_perceptron.py:571: ConvergenceWarning: Stochastic Optimizer: Maximum iterations (3000) reached and the optimization hasn't converged yet.\n  % self.max_iter, ConvergenceWarning)\n/home/skb/.local/lib/python3.6/site-packages/sklearn/neural_network/_multilayer_perceptron.py:571: ConvergenceWarning: Stochastic Optimizer: Maximum iterations (1000) reached and the optimization hasn't converged yet.\n  % self.max_iter, ConvergenceWarning)\n/home/skb/.local/lib/python3.6/site-packages/sklearn/neural_network/_multilayer_perceptron.py:571: ConvergenceWarning: Stochastic Optimizer: Maximum iterations (1000) reached and the optimization hasn't converged yet.\n  % self.max_iter, ConvergenceWarning)\n/home/skb/.local/lib/python3.6/site-packages/sklearn/neural_network/_multilayer_perceptron.py:571: ConvergenceWarning: Stochastic Optimizer: Maximum iterations (1000) reached and the optimization hasn't converged yet.\n  % self.max_iter, ConvergenceWarning)\n/home/skb/.local/lib/python3.6/site-packages/sklearn/neural_network/_multilayer_perceptron.py:571: ConvergenceWarning: Stochastic Optimizer: Maximum iterations (2000) reached and the optimization hasn't converged yet.\n  % self.max_iter, ConvergenceWarning)\n/home/skb/.local/lib/python3.6/site-packages/sklearn/neural_network/_multilayer_perceptron.py:571: ConvergenceWarning: Stochastic Optimizer: Maximum iterations (2000) reached and the optimization hasn't converged yet.\n  % self.max_iter, ConvergenceWarning)\n/home/skb/.local/lib/python3.6/site-packages/sklearn/neural_network/_multilayer_perceptron.py:571: ConvergenceWarning: Stochastic Optimizer: Maximum iterations (2000) reached and the optimization hasn't converged yet.\n  % self.max_iter, ConvergenceWarning)\n/home/skb/.local/lib/python3.6/site-packages/sklearn/neural_network/_multilayer_perceptron.py:571: ConvergenceWarning: Stochastic Optimizer: Maximum iterations (1500) reached and the optimization hasn't converged yet.\n  % self.max_iter, ConvergenceWarning)\n/home/skb/.local/lib/python3.6/site-packages/sklearn/neural_network/_multilayer_perceptron.py:571: ConvergenceWarning: Stochastic Optimizer: Maximum iterations (1500) reached and the optimization hasn't converged yet.\n  % self.max_iter, ConvergenceWarning)\n/home/skb/.local/lib/python3.6/site-packages/sklearn/neural_network/_multilayer_perceptron.py:571: ConvergenceWarning: Stochastic Optimizer: Maximum iterations (1500) reached and the optimization hasn't converged yet.\n  % self.max_iter, ConvergenceWarning)\n/home/skb/.local/lib/python3.6/site-packages/sklearn/neural_network/_multilayer_perceptron.py:571: ConvergenceWarning: Stochastic Optimizer: Maximum iterations (1500) reached and the optimization hasn't converged yet.\n  % self.max_iter, ConvergenceWarning)\n/home/skb/.local/lib/python3.6/site-packages/sklearn/neural_network/_multilayer_perceptron.py:571: ConvergenceWarning: Stochastic Optimizer: Maximum iterations (3000) reached and the optimization hasn't converged yet.\n  % self.max_iter, ConvergenceWarning)\n/home/skb/.local/lib/python3.6/site-packages/sklearn/neural_network/_multilayer_perceptron.py:571: ConvergenceWarning: Stochastic Optimizer: Maximum iterations (1000) reached and the optimization hasn't converged yet.\n  % self.max_iter, ConvergenceWarning)\n/home/skb/.local/lib/python3.6/site-packages/sklearn/neural_network/_multilayer_perceptron.py:571: ConvergenceWarning: Stochastic Optimizer: Maximum iterations (1000) reached and the optimization hasn't converged yet.\n  % self.max_iter, ConvergenceWarning)\n/home/skb/.local/lib/python3.6/site-packages/sklearn/neural_network/_multilayer_perceptron.py:571: ConvergenceWarning: Stochastic Optimizer: Maximum iterations (1000) reached and the optimization hasn't converged yet.\n  % self.max_iter, ConvergenceWarning)\n/home/skb/.local/lib/python3.6/site-packages/sklearn/neural_network/_multilayer_perceptron.py:571: ConvergenceWarning: Stochastic Optimizer: Maximum iterations (1000) reached and the optimization hasn't converged yet.\n  % self.max_iter, ConvergenceWarning)\n/home/skb/.local/lib/python3.6/site-packages/sklearn/neural_network/_multilayer_perceptron.py:571: ConvergenceWarning: Stochastic Optimizer: Maximum iterations (2000) reached and the optimization hasn't converged yet.\n  % self.max_iter, ConvergenceWarning)\n/home/skb/.local/lib/python3.6/site-packages/sklearn/neural_network/_multilayer_perceptron.py:571: ConvergenceWarning: Stochastic Optimizer: Maximum iterations (2000) reached and the optimization hasn't converged yet.\n  % self.max_iter, ConvergenceWarning)\n/home/skb/.local/lib/python3.6/site-packages/sklearn/neural_network/_multilayer_perceptron.py:571: ConvergenceWarning: Stochastic Optimizer: Maximum iterations (1500) reached and the optimization hasn't converged yet.\n  % self.max_iter, ConvergenceWarning)\n/home/skb/.local/lib/python3.6/site-packages/sklearn/neural_network/_multilayer_perceptron.py:571: ConvergenceWarning: Stochastic Optimizer: Maximum iterations (3000) reached and the optimization hasn't converged yet.\n  % self.max_iter, ConvergenceWarning)\n/home/skb/.local/lib/python3.6/site-packages/sklearn/neural_network/_multilayer_perceptron.py:571: ConvergenceWarning: Stochastic Optimizer: Maximum iterations (3000) reached and the optimization hasn't converged yet.\n  % self.max_iter, ConvergenceWarning)\n"
    }
   ],
   "source": "gsc=gsc.fit(X_train,y_train)"
  },
  {
   "cell_type": "code",
   "execution_count": 97,
   "metadata": {},
   "outputs": [
    {
     "data": {
      "text/plain": "0.5285150746689208"
     },
     "execution_count": 97,
     "metadata": {},
     "output_type": "execute_result"
    }
   ],
   "source": "gsc.best_score_\n"
  },
  {
   "cell_type": "code",
   "execution_count": 98,
   "metadata": {},
   "outputs": [
    {
     "data": {
      "text/plain": "{'hidden_layer_sizes': 14, 'max_iter': 2000}"
     },
     "execution_count": 98,
     "metadata": {},
     "output_type": "execute_result"
    }
   ],
   "source": "gsc.best_params_"
  },
  {
   "cell_type": "code",
   "execution_count": 99,
   "metadata": {},
   "outputs": [
    {
     "data": {
      "text/plain": "Date\n2015-01-09    1.0\n2015-01-12   -1.0\n2015-01-13   -1.0\n2015-01-14    1.0\n2015-01-15    1.0\n             ... \n2018-05-29    1.0\n2018-05-30   -1.0\n2018-05-31   -1.0\n2018-06-01   -1.0\n2018-06-04    1.0\nName: direction, Length: 842, dtype: float64"
     },
     "execution_count": 99,
     "metadata": {},
     "output_type": "execute_result"
    }
   ],
   "source": "y_train"
  },
  {
   "cell_type": "code",
   "execution_count": 100,
   "metadata": {},
   "outputs": [
    {
     "data": {
      "text/plain": "1.0"
     },
     "execution_count": 100,
     "metadata": {},
     "output_type": "execute_result"
    }
   ],
   "source": "y_train.iloc[0]"
  },
  {
   "cell_type": "code",
   "execution_count": 101,
   "metadata": {},
   "outputs": [],
   "source": "pos=0\nneg=0\nzeros=0"
  },
  {
   "cell_type": "code",
   "execution_count": 102,
   "metadata": {},
   "outputs": [],
   "source": "len=np.arange(0,842)\n\n"
  },
  {
   "cell_type": "code",
   "execution_count": 103,
   "metadata": {},
   "outputs": [],
   "source": "zeros=0\npos=0\nneg=0"
  },
  {
   "cell_type": "code",
   "execution_count": 104,
   "metadata": {},
   "outputs": [
    {
     "name": "stdout",
     "output_type": "stream",
     "text": "549\n"
    }
   ],
   "source": "for i in len:\n    if(y_train.iloc[i]==0):\n        zeros=zeros+1\n        print(i)\n    elif(y_train.iloc[i]==1):\n        pos=pos+1\n    else:\n        neg=neg+1"
  },
  {
   "cell_type": "code",
   "execution_count": 105,
   "metadata": {},
   "outputs": [
    {
     "data": {
      "text/plain": "-1.0"
     },
     "execution_count": 105,
     "metadata": {},
     "output_type": "execute_result"
    }
   ],
   "source": "y_train[471]"
  },
  {
   "cell_type": "code",
   "execution_count": 106,
   "metadata": {},
   "outputs": [
    {
     "data": {
      "text/plain": "1"
     },
     "execution_count": 106,
     "metadata": {},
     "output_type": "execute_result"
    }
   ],
   "source": "zeros"
  },
  {
   "cell_type": "code",
   "execution_count": 107,
   "metadata": {},
   "outputs": [
    {
     "data": {
      "text/plain": "421"
     },
     "execution_count": 107,
     "metadata": {},
     "output_type": "execute_result"
    }
   ],
   "source": "pos"
  },
  {
   "cell_type": "code",
   "execution_count": 108,
   "metadata": {},
   "outputs": [
    {
     "data": {
      "text/plain": "420"
     },
     "execution_count": 108,
     "metadata": {},
     "output_type": "execute_result"
    }
   ],
   "source": "neg"
  },
  {
   "cell_type": "code",
   "execution_count": 109,
   "metadata": {},
   "outputs": [],
   "source": "y_train=y_train.drop(y_train.index[471])"
  },
  {
   "cell_type": "code",
   "execution_count": 110,
   "metadata": {},
   "outputs": [
    {
     "data": {
      "text/plain": "1.0"
     },
     "execution_count": 110,
     "metadata": {},
     "output_type": "execute_result"
    }
   ],
   "source": "y_train[471]"
  },
  {
   "cell_type": "code",
   "execution_count": 111,
   "metadata": {},
   "outputs": [],
   "source": "X_train=X_train.drop(X_train.index[471])"
  },
  {
   "cell_type": "code",
   "execution_count": 112,
   "metadata": {},
   "outputs": [],
   "source": "gsc = GridSearchCV(\n        estimator=MLPClassifier(),param_grid={'hidden_layer_sizes':(np.arange(8,15)),'max_iter':[1000,2000,1500,3000]})"
  },
  {
   "cell_type": "code",
   "execution_count": 113,
   "metadata": {
    "scrolled": false
   },
   "outputs": [
    {
     "name": "stderr",
     "output_type": "stream",
     "text": "/home/skb/.local/lib/python3.6/site-packages/sklearn/model_selection/_split.py:667: UserWarning: The least populated class in y has only 1 members, which is less than n_splits=5.\n  % (min_groups, self.n_splits)), UserWarning)\n/home/skb/.local/lib/python3.6/site-packages/sklearn/neural_network/_multilayer_perceptron.py:571: ConvergenceWarning: Stochastic Optimizer: Maximum iterations (1000) reached and the optimization hasn't converged yet.\n  % self.max_iter, ConvergenceWarning)\n/home/skb/.local/lib/python3.6/site-packages/sklearn/neural_network/_multilayer_perceptron.py:571: ConvergenceWarning: Stochastic Optimizer: Maximum iterations (1000) reached and the optimization hasn't converged yet.\n  % self.max_iter, ConvergenceWarning)\n/home/skb/.local/lib/python3.6/site-packages/sklearn/neural_network/_multilayer_perceptron.py:571: ConvergenceWarning: Stochastic Optimizer: Maximum iterations (1000) reached and the optimization hasn't converged yet.\n  % self.max_iter, ConvergenceWarning)\n/home/skb/.local/lib/python3.6/site-packages/sklearn/neural_network/_multilayer_perceptron.py:571: ConvergenceWarning: Stochastic Optimizer: Maximum iterations (2000) reached and the optimization hasn't converged yet.\n  % self.max_iter, ConvergenceWarning)\n/home/skb/.local/lib/python3.6/site-packages/sklearn/neural_network/_multilayer_perceptron.py:571: ConvergenceWarning: Stochastic Optimizer: Maximum iterations (2000) reached and the optimization hasn't converged yet.\n  % self.max_iter, ConvergenceWarning)\n/home/skb/.local/lib/python3.6/site-packages/sklearn/neural_network/_multilayer_perceptron.py:571: ConvergenceWarning: Stochastic Optimizer: Maximum iterations (1500) reached and the optimization hasn't converged yet.\n  % self.max_iter, ConvergenceWarning)\n/home/skb/.local/lib/python3.6/site-packages/sklearn/neural_network/_multilayer_perceptron.py:571: ConvergenceWarning: Stochastic Optimizer: Maximum iterations (3000) reached and the optimization hasn't converged yet.\n  % self.max_iter, ConvergenceWarning)\n/home/skb/.local/lib/python3.6/site-packages/sklearn/neural_network/_multilayer_perceptron.py:571: ConvergenceWarning: Stochastic Optimizer: Maximum iterations (3000) reached and the optimization hasn't converged yet.\n  % self.max_iter, ConvergenceWarning)\n/home/skb/.local/lib/python3.6/site-packages/sklearn/neural_network/_multilayer_perceptron.py:571: ConvergenceWarning: Stochastic Optimizer: Maximum iterations (3000) reached and the optimization hasn't converged yet.\n  % self.max_iter, ConvergenceWarning)\n/home/skb/.local/lib/python3.6/site-packages/sklearn/neural_network/_multilayer_perceptron.py:571: ConvergenceWarning: Stochastic Optimizer: Maximum iterations (1000) reached and the optimization hasn't converged yet.\n  % self.max_iter, ConvergenceWarning)\n/home/skb/.local/lib/python3.6/site-packages/sklearn/neural_network/_multilayer_perceptron.py:571: ConvergenceWarning: Stochastic Optimizer: Maximum iterations (1000) reached and the optimization hasn't converged yet.\n  % self.max_iter, ConvergenceWarning)\n/home/skb/.local/lib/python3.6/site-packages/sklearn/neural_network/_multilayer_perceptron.py:571: ConvergenceWarning: Stochastic Optimizer: Maximum iterations (1000) reached and the optimization hasn't converged yet.\n  % self.max_iter, ConvergenceWarning)\n/home/skb/.local/lib/python3.6/site-packages/sklearn/neural_network/_multilayer_perceptron.py:571: ConvergenceWarning: Stochastic Optimizer: Maximum iterations (1000) reached and the optimization hasn't converged yet.\n  % self.max_iter, ConvergenceWarning)\n/home/skb/.local/lib/python3.6/site-packages/sklearn/neural_network/_multilayer_perceptron.py:571: ConvergenceWarning: Stochastic Optimizer: Maximum iterations (1000) reached and the optimization hasn't converged yet.\n  % self.max_iter, ConvergenceWarning)\n/home/skb/.local/lib/python3.6/site-packages/sklearn/neural_network/_multilayer_perceptron.py:571: ConvergenceWarning: Stochastic Optimizer: Maximum iterations (2000) reached and the optimization hasn't converged yet.\n  % self.max_iter, ConvergenceWarning)\n/home/skb/.local/lib/python3.6/site-packages/sklearn/neural_network/_multilayer_perceptron.py:571: ConvergenceWarning: Stochastic Optimizer: Maximum iterations (1500) reached and the optimization hasn't converged yet.\n  % self.max_iter, ConvergenceWarning)\n/home/skb/.local/lib/python3.6/site-packages/sklearn/neural_network/_multilayer_perceptron.py:571: ConvergenceWarning: Stochastic Optimizer: Maximum iterations (1500) reached and the optimization hasn't converged yet.\n  % self.max_iter, ConvergenceWarning)\n/home/skb/.local/lib/python3.6/site-packages/sklearn/neural_network/_multilayer_perceptron.py:571: ConvergenceWarning: Stochastic Optimizer: Maximum iterations (1500) reached and the optimization hasn't converged yet.\n  % self.max_iter, ConvergenceWarning)\n/home/skb/.local/lib/python3.6/site-packages/sklearn/neural_network/_multilayer_perceptron.py:571: ConvergenceWarning: Stochastic Optimizer: Maximum iterations (3000) reached and the optimization hasn't converged yet.\n  % self.max_iter, ConvergenceWarning)\n/home/skb/.local/lib/python3.6/site-packages/sklearn/neural_network/_multilayer_perceptron.py:571: ConvergenceWarning: Stochastic Optimizer: Maximum iterations (1000) reached and the optimization hasn't converged yet.\n  % self.max_iter, ConvergenceWarning)\n/home/skb/.local/lib/python3.6/site-packages/sklearn/neural_network/_multilayer_perceptron.py:571: ConvergenceWarning: Stochastic Optimizer: Maximum iterations (1000) reached and the optimization hasn't converged yet.\n  % self.max_iter, ConvergenceWarning)\n/home/skb/.local/lib/python3.6/site-packages/sklearn/neural_network/_multilayer_perceptron.py:571: ConvergenceWarning: Stochastic Optimizer: Maximum iterations (1000) reached and the optimization hasn't converged yet.\n  % self.max_iter, ConvergenceWarning)\n/home/skb/.local/lib/python3.6/site-packages/sklearn/neural_network/_multilayer_perceptron.py:571: ConvergenceWarning: Stochastic Optimizer: Maximum iterations (1000) reached and the optimization hasn't converged yet.\n  % self.max_iter, ConvergenceWarning)\n/home/skb/.local/lib/python3.6/site-packages/sklearn/neural_network/_multilayer_perceptron.py:571: ConvergenceWarning: Stochastic Optimizer: Maximum iterations (2000) reached and the optimization hasn't converged yet.\n  % self.max_iter, ConvergenceWarning)\n/home/skb/.local/lib/python3.6/site-packages/sklearn/neural_network/_multilayer_perceptron.py:571: ConvergenceWarning: Stochastic Optimizer: Maximum iterations (2000) reached and the optimization hasn't converged yet.\n  % self.max_iter, ConvergenceWarning)\n/home/skb/.local/lib/python3.6/site-packages/sklearn/neural_network/_multilayer_perceptron.py:571: ConvergenceWarning: Stochastic Optimizer: Maximum iterations (2000) reached and the optimization hasn't converged yet.\n  % self.max_iter, ConvergenceWarning)\n/home/skb/.local/lib/python3.6/site-packages/sklearn/neural_network/_multilayer_perceptron.py:571: ConvergenceWarning: Stochastic Optimizer: Maximum iterations (1500) reached and the optimization hasn't converged yet.\n  % self.max_iter, ConvergenceWarning)\n/home/skb/.local/lib/python3.6/site-packages/sklearn/neural_network/_multilayer_perceptron.py:571: ConvergenceWarning: Stochastic Optimizer: Maximum iterations (3000) reached and the optimization hasn't converged yet.\n  % self.max_iter, ConvergenceWarning)\n/home/skb/.local/lib/python3.6/site-packages/sklearn/neural_network/_multilayer_perceptron.py:571: ConvergenceWarning: Stochastic Optimizer: Maximum iterations (1000) reached and the optimization hasn't converged yet.\n  % self.max_iter, ConvergenceWarning)\n/home/skb/.local/lib/python3.6/site-packages/sklearn/neural_network/_multilayer_perceptron.py:571: ConvergenceWarning: Stochastic Optimizer: Maximum iterations (1000) reached and the optimization hasn't converged yet.\n  % self.max_iter, ConvergenceWarning)\n/home/skb/.local/lib/python3.6/site-packages/sklearn/neural_network/_multilayer_perceptron.py:571: ConvergenceWarning: Stochastic Optimizer: Maximum iterations (1000) reached and the optimization hasn't converged yet.\n  % self.max_iter, ConvergenceWarning)\n"
    },
    {
     "name": "stderr",
     "output_type": "stream",
     "text": "/home/skb/.local/lib/python3.6/site-packages/sklearn/neural_network/_multilayer_perceptron.py:571: ConvergenceWarning: Stochastic Optimizer: Maximum iterations (2000) reached and the optimization hasn't converged yet.\n  % self.max_iter, ConvergenceWarning)\n/home/skb/.local/lib/python3.6/site-packages/sklearn/neural_network/_multilayer_perceptron.py:571: ConvergenceWarning: Stochastic Optimizer: Maximum iterations (2000) reached and the optimization hasn't converged yet.\n  % self.max_iter, ConvergenceWarning)\n/home/skb/.local/lib/python3.6/site-packages/sklearn/neural_network/_multilayer_perceptron.py:571: ConvergenceWarning: Stochastic Optimizer: Maximum iterations (1500) reached and the optimization hasn't converged yet.\n  % self.max_iter, ConvergenceWarning)\n/home/skb/.local/lib/python3.6/site-packages/sklearn/neural_network/_multilayer_perceptron.py:571: ConvergenceWarning: Stochastic Optimizer: Maximum iterations (1500) reached and the optimization hasn't converged yet.\n  % self.max_iter, ConvergenceWarning)\n/home/skb/.local/lib/python3.6/site-packages/sklearn/neural_network/_multilayer_perceptron.py:571: ConvergenceWarning: Stochastic Optimizer: Maximum iterations (3000) reached and the optimization hasn't converged yet.\n  % self.max_iter, ConvergenceWarning)\n/home/skb/.local/lib/python3.6/site-packages/sklearn/neural_network/_multilayer_perceptron.py:571: ConvergenceWarning: Stochastic Optimizer: Maximum iterations (1000) reached and the optimization hasn't converged yet.\n  % self.max_iter, ConvergenceWarning)\n/home/skb/.local/lib/python3.6/site-packages/sklearn/neural_network/_multilayer_perceptron.py:571: ConvergenceWarning: Stochastic Optimizer: Maximum iterations (1000) reached and the optimization hasn't converged yet.\n  % self.max_iter, ConvergenceWarning)\n/home/skb/.local/lib/python3.6/site-packages/sklearn/neural_network/_multilayer_perceptron.py:571: ConvergenceWarning: Stochastic Optimizer: Maximum iterations (1000) reached and the optimization hasn't converged yet.\n  % self.max_iter, ConvergenceWarning)\n/home/skb/.local/lib/python3.6/site-packages/sklearn/neural_network/_multilayer_perceptron.py:571: ConvergenceWarning: Stochastic Optimizer: Maximum iterations (2000) reached and the optimization hasn't converged yet.\n  % self.max_iter, ConvergenceWarning)\n/home/skb/.local/lib/python3.6/site-packages/sklearn/neural_network/_multilayer_perceptron.py:571: ConvergenceWarning: Stochastic Optimizer: Maximum iterations (2000) reached and the optimization hasn't converged yet.\n  % self.max_iter, ConvergenceWarning)\n/home/skb/.local/lib/python3.6/site-packages/sklearn/neural_network/_multilayer_perceptron.py:571: ConvergenceWarning: Stochastic Optimizer: Maximum iterations (2000) reached and the optimization hasn't converged yet.\n  % self.max_iter, ConvergenceWarning)\n/home/skb/.local/lib/python3.6/site-packages/sklearn/neural_network/_multilayer_perceptron.py:571: ConvergenceWarning: Stochastic Optimizer: Maximum iterations (1500) reached and the optimization hasn't converged yet.\n  % self.max_iter, ConvergenceWarning)\n/home/skb/.local/lib/python3.6/site-packages/sklearn/neural_network/_multilayer_perceptron.py:571: ConvergenceWarning: Stochastic Optimizer: Maximum iterations (1500) reached and the optimization hasn't converged yet.\n  % self.max_iter, ConvergenceWarning)\n/home/skb/.local/lib/python3.6/site-packages/sklearn/neural_network/_multilayer_perceptron.py:571: ConvergenceWarning: Stochastic Optimizer: Maximum iterations (1500) reached and the optimization hasn't converged yet.\n  % self.max_iter, ConvergenceWarning)\n/home/skb/.local/lib/python3.6/site-packages/sklearn/neural_network/_multilayer_perceptron.py:571: ConvergenceWarning: Stochastic Optimizer: Maximum iterations (3000) reached and the optimization hasn't converged yet.\n  % self.max_iter, ConvergenceWarning)\n/home/skb/.local/lib/python3.6/site-packages/sklearn/neural_network/_multilayer_perceptron.py:571: ConvergenceWarning: Stochastic Optimizer: Maximum iterations (1000) reached and the optimization hasn't converged yet.\n  % self.max_iter, ConvergenceWarning)\n/home/skb/.local/lib/python3.6/site-packages/sklearn/neural_network/_multilayer_perceptron.py:571: ConvergenceWarning: Stochastic Optimizer: Maximum iterations (1000) reached and the optimization hasn't converged yet.\n  % self.max_iter, ConvergenceWarning)\n/home/skb/.local/lib/python3.6/site-packages/sklearn/neural_network/_multilayer_perceptron.py:571: ConvergenceWarning: Stochastic Optimizer: Maximum iterations (1000) reached and the optimization hasn't converged yet.\n  % self.max_iter, ConvergenceWarning)\n/home/skb/.local/lib/python3.6/site-packages/sklearn/neural_network/_multilayer_perceptron.py:571: ConvergenceWarning: Stochastic Optimizer: Maximum iterations (2000) reached and the optimization hasn't converged yet.\n  % self.max_iter, ConvergenceWarning)\n/home/skb/.local/lib/python3.6/site-packages/sklearn/neural_network/_multilayer_perceptron.py:571: ConvergenceWarning: Stochastic Optimizer: Maximum iterations (2000) reached and the optimization hasn't converged yet.\n  % self.max_iter, ConvergenceWarning)\n/home/skb/.local/lib/python3.6/site-packages/sklearn/neural_network/_multilayer_perceptron.py:571: ConvergenceWarning: Stochastic Optimizer: Maximum iterations (2000) reached and the optimization hasn't converged yet.\n  % self.max_iter, ConvergenceWarning)\n/home/skb/.local/lib/python3.6/site-packages/sklearn/neural_network/_multilayer_perceptron.py:571: ConvergenceWarning: Stochastic Optimizer: Maximum iterations (1500) reached and the optimization hasn't converged yet.\n  % self.max_iter, ConvergenceWarning)\n/home/skb/.local/lib/python3.6/site-packages/sklearn/neural_network/_multilayer_perceptron.py:571: ConvergenceWarning: Stochastic Optimizer: Maximum iterations (1500) reached and the optimization hasn't converged yet.\n  % self.max_iter, ConvergenceWarning)\n/home/skb/.local/lib/python3.6/site-packages/sklearn/neural_network/_multilayer_perceptron.py:571: ConvergenceWarning: Stochastic Optimizer: Maximum iterations (3000) reached and the optimization hasn't converged yet.\n  % self.max_iter, ConvergenceWarning)\n/home/skb/.local/lib/python3.6/site-packages/sklearn/neural_network/_multilayer_perceptron.py:571: ConvergenceWarning: Stochastic Optimizer: Maximum iterations (1000) reached and the optimization hasn't converged yet.\n  % self.max_iter, ConvergenceWarning)\n/home/skb/.local/lib/python3.6/site-packages/sklearn/neural_network/_multilayer_perceptron.py:571: ConvergenceWarning: Stochastic Optimizer: Maximum iterations (1000) reached and the optimization hasn't converged yet.\n  % self.max_iter, ConvergenceWarning)\n/home/skb/.local/lib/python3.6/site-packages/sklearn/neural_network/_multilayer_perceptron.py:571: ConvergenceWarning: Stochastic Optimizer: Maximum iterations (1000) reached and the optimization hasn't converged yet.\n  % self.max_iter, ConvergenceWarning)\n/home/skb/.local/lib/python3.6/site-packages/sklearn/neural_network/_multilayer_perceptron.py:571: ConvergenceWarning: Stochastic Optimizer: Maximum iterations (1000) reached and the optimization hasn't converged yet.\n  % self.max_iter, ConvergenceWarning)\n/home/skb/.local/lib/python3.6/site-packages/sklearn/neural_network/_multilayer_perceptron.py:571: ConvergenceWarning: Stochastic Optimizer: Maximum iterations (1000) reached and the optimization hasn't converged yet.\n  % self.max_iter, ConvergenceWarning)\n/home/skb/.local/lib/python3.6/site-packages/sklearn/neural_network/_multilayer_perceptron.py:571: ConvergenceWarning: Stochastic Optimizer: Maximum iterations (2000) reached and the optimization hasn't converged yet.\n  % self.max_iter, ConvergenceWarning)\n/home/skb/.local/lib/python3.6/site-packages/sklearn/neural_network/_multilayer_perceptron.py:571: ConvergenceWarning: Stochastic Optimizer: Maximum iterations (2000) reached and the optimization hasn't converged yet.\n  % self.max_iter, ConvergenceWarning)\n/home/skb/.local/lib/python3.6/site-packages/sklearn/neural_network/_multilayer_perceptron.py:571: ConvergenceWarning: Stochastic Optimizer: Maximum iterations (2000) reached and the optimization hasn't converged yet.\n  % self.max_iter, ConvergenceWarning)\n"
    },
    {
     "name": "stderr",
     "output_type": "stream",
     "text": "/home/skb/.local/lib/python3.6/site-packages/sklearn/neural_network/_multilayer_perceptron.py:571: ConvergenceWarning: Stochastic Optimizer: Maximum iterations (1500) reached and the optimization hasn't converged yet.\n  % self.max_iter, ConvergenceWarning)\n/home/skb/.local/lib/python3.6/site-packages/sklearn/neural_network/_multilayer_perceptron.py:571: ConvergenceWarning: Stochastic Optimizer: Maximum iterations (1500) reached and the optimization hasn't converged yet.\n  % self.max_iter, ConvergenceWarning)\n/home/skb/.local/lib/python3.6/site-packages/sklearn/neural_network/_multilayer_perceptron.py:571: ConvergenceWarning: Stochastic Optimizer: Maximum iterations (3000) reached and the optimization hasn't converged yet.\n  % self.max_iter, ConvergenceWarning)\n/home/skb/.local/lib/python3.6/site-packages/sklearn/neural_network/_multilayer_perceptron.py:571: ConvergenceWarning: Stochastic Optimizer: Maximum iterations (3000) reached and the optimization hasn't converged yet.\n  % self.max_iter, ConvergenceWarning)\n/home/skb/.local/lib/python3.6/site-packages/sklearn/neural_network/_multilayer_perceptron.py:571: ConvergenceWarning: Stochastic Optimizer: Maximum iterations (1500) reached and the optimization hasn't converged yet.\n  % self.max_iter, ConvergenceWarning)\n"
    }
   ],
   "source": "gsc=gsc.fit(X_train,y_train)"
  },
  {
   "cell_type": "code",
   "execution_count": 114,
   "metadata": {},
   "outputs": [
    {
     "data": {
      "text/plain": "0.5195970695970696"
     },
     "execution_count": 114,
     "metadata": {},
     "output_type": "execute_result"
    }
   ],
   "source": "gsc.best_score_"
  },
  {
   "cell_type": "code",
   "execution_count": 115,
   "metadata": {},
   "outputs": [
    {
     "data": {
      "text/plain": "{'hidden_layer_sizes': 12, 'max_iter': 1500}"
     },
     "execution_count": 115,
     "metadata": {},
     "output_type": "execute_result"
    }
   ],
   "source": "gsc.best_params_\n"
  },
  {
   "cell_type": "code",
   "execution_count": 116,
   "metadata": {},
   "outputs": [],
   "source": "from matplotlib import pyplot as plt\n"
  },
  {
   "cell_type": "code",
   "execution_count": 117,
   "metadata": {},
   "outputs": [],
   "source": "from sklearn.decomposition import PCA"
  },
  {
   "cell_type": "code",
   "execution_count": 118,
   "metadata": {},
   "outputs": [],
   "source": "pca=PCA(n_components=5)"
  },
  {
   "cell_type": "code",
   "execution_count": 119,
   "metadata": {},
   "outputs": [],
   "source": "principalComponents = pca.fit_transform(X)\n"
  },
  {
   "cell_type": "code",
   "execution_count": 120,
   "metadata": {},
   "outputs": [],
   "source": "principalDf = pd.DataFrame(data = principalComponents\n             , columns = ['principal_component_1', 'principal_component_2','principal_component_3', 'principal_component_4','principal_component_5'])\n"
  },
  {
   "cell_type": "code",
   "execution_count": 124,
   "metadata": {},
   "outputs": [],
   "source": "principalDf.index=y.index"
  },
  {
   "cell_type": "code",
   "execution_count": 125,
   "metadata": {},
   "outputs": [],
   "source": "finalDf = pd.concat([principalDf, y], axis = 1)\n"
  },
  {
   "cell_type": "code",
   "execution_count": 127,
   "metadata": {},
   "outputs": [],
   "source": "from sklearn.ensemble import VotingClassifier"
  },
  {
   "cell_type": "code",
   "execution_count": 144,
   "metadata": {},
   "outputs": [],
   "source": "vlc=VotingClassifier([('mlp2',MLPClassifier()),('svc2',SVC()),('lr2',LogisticRegression())])"
  },
  {
   "cell_type": "code",
   "execution_count": 137,
   "metadata": {},
   "outputs": [],
   "source": "x_pca=finalDf.columns[0:5]"
  },
  {
   "cell_type": "code",
   "execution_count": 138,
   "metadata": {},
   "outputs": [],
   "source": "X_pca=finalDf[x_pca]"
  },
  {
   "cell_type": "code",
   "execution_count": 140,
   "metadata": {},
   "outputs": [],
   "source": "y_pca=finalDf.direction"
  },
  {
   "cell_type": "code",
   "execution_count": 142,
   "metadata": {},
   "outputs": [],
   "source": "X2_train,X2_test,y2_train,y2_test=train_test_split(X_pca,y_pca,test_size=0.3,random_state=1,shuffle=False)"
  },
  {
   "cell_type": "code",
   "execution_count": 145,
   "metadata": {},
   "outputs": [
    {
     "name": "stderr",
     "output_type": "stream",
     "text": "/home/skb/.local/lib/python3.6/site-packages/sklearn/neural_network/_multilayer_perceptron.py:571: ConvergenceWarning: Stochastic Optimizer: Maximum iterations (200) reached and the optimization hasn't converged yet.\n  % self.max_iter, ConvergenceWarning)\n"
    }
   ],
   "source": "vlc=vlc.fit(X2_train,y2_train)"
  },
  {
   "cell_type": "code",
   "execution_count": 146,
   "metadata": {},
   "outputs": [],
   "source": "y_pca=vlc.predict(X2_test)"
  },
  {
   "cell_type": "code",
   "execution_count": 147,
   "metadata": {},
   "outputs": [
    {
     "name": "stdout",
     "output_type": "stream",
     "text": "accuracy: 0.5303867403314917\n"
    }
   ],
   "source": "print(\"accuracy:\",metrics.accuracy_score(y2_test,y_pca))"
  },
  {
   "cell_type": "code",
   "execution_count": null,
   "metadata": {},
   "outputs": [],
   "source": ""
  }
 ],
 "metadata": {
  "kernelspec": {
   "display_name": "penv",
   "language": "python",
   "name": "penv"
  },
  "language_info": {
   "codemirror_mode": {
    "name": "ipython",
    "version": 3
   },
   "file_extension": ".py",
   "mimetype": "text/x-python",
   "name": "python",
   "nbconvert_exporter": "python",
   "pygments_lexer": "ipython3",
   "version": "3.6.9"
  }
 },
 "nbformat": 4,
 "nbformat_minor": 4
}
